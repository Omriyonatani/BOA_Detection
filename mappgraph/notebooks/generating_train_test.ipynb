{
  "cells": [
    {
      "cell_type": "markdown",
      "metadata": {
        "id": "7tmri_u2Inko"
      },
      "source": [
        "## Import packages"
      ]
    },
    {
      "cell_type": "code",
      "execution_count": 19,
      "metadata": {
        "colab": {
          "base_uri": "https://localhost:8080/"
        },
        "id": "WQ3lH-WAtdDR",
        "outputId": "38f8732c-decb-484f-993f-3c46dde4e242"
      },
      "outputs": [],
      "source": [
        "# from google.colab import drive\n",
        "# drive.mount('/content/drive')"
      ]
    },
    {
      "cell_type": "code",
      "execution_count": 20,
      "metadata": {
        "id": "c8pnWzCztrfc"
      },
      "outputs": [],
      "source": [
        "import os\n",
        "import json\n",
        "import random\n",
        "import warnings\n",
        "warnings.filterwarnings('ignore')"
      ]
    },
    {
      "cell_type": "code",
      "execution_count": 21,
      "metadata": {
        "id": "qZXenyX6uxQt"
      },
      "outputs": [],
      "source": [
        "# this path depends on your setup (need to contain sources folder)\n",
        "# root_path = 'C:/MAppGraph/mappgraph/data'\n",
        "# root_path = 'C:/MAppGraph/mappgraph/BOAdata'\n",
        "root_path = 'D:/Omri'"
      ]
    },
    {
      "cell_type": "markdown",
      "metadata": {
        "id": "I3ma3AT9VS_H"
      },
      "source": [
        "## Config setting"
      ]
    },
    {
      "cell_type": "code",
      "execution_count": 22,
      "metadata": {
        "id": "3YIOosnxVVXp"
      },
      "outputs": [],
      "source": [
        "'''\n",
        "Define set of hyper-parameters\n",
        "List of tuples (duration, overlap)\n",
        "'''\n",
        "params = [(5, 3), (4, 2), (3, 1), (2, 0), (1, 0)]\n",
        "\n",
        "train_size = 0.8"
      ]
    },
    {
      "cell_type": "markdown",
      "metadata": {
        "id": "N2YUsizo-iq9"
      },
      "source": [
        "## Split data into training and testing and save into a json file"
      ]
    },
    {
      "cell_type": "code",
      "execution_count": 23,
      "metadata": {
        "id": "fC7N3HwOEnJT"
      },
      "outputs": [],
      "source": [
        "\"\"\"\n",
        "input: list of filenames (samples) and the train size\n",
        "output: list of filenames for training, list of filenames of testing\n",
        "\"\"\"\n",
        "\n",
        "def get_train_test(filenames, train_size):\n",
        "  train_idx = random.sample(range(len(filenames)), int(len(filenames)*train_size))\n",
        "  train_filenames = [filenames[i] for i in train_idx]\n",
        "\n",
        "  test_filenames = list(set(filenames) - set(train_filenames))\n",
        "\n",
        "  return (train_filenames, test_filenames)"
      ]
    },
    {
      "cell_type": "code",
      "execution_count": 24,
      "metadata": {
        "id": "e7BR2rLUWijB"
      },
      "outputs": [],
      "source": [
        "# loop over set of hyper-parameters\n",
        "for duration, overlap in params:\n",
        "  param_folder = os.path.join(root_path, '%d_%d'%(duration, overlap))\n",
        "  samples_folder = os.path.join(param_folder, 'samples')\n",
        "\n",
        "  # initial a dictionary containing training and testing information\n",
        "  train_test_info = dict()\n",
        "  for app in os.listdir(samples_folder):\n",
        "    app_folder = os.path.join(samples_folder, app)\n",
        "    filenames = os.listdir(app_folder)\n",
        "\n",
        "    train_test_info[app] = get_train_test(filenames, train_size)\n",
        "\n",
        "  # save train_test_info as json file\n",
        "  saved_path = os.path.join(param_folder, 'train_test_info.json')\n",
        "  with open(saved_path, 'w') as f:\n",
        "    json.dump(train_test_info, f)"
      ]
    }
  ],
  "metadata": {
    "colab": {
      "collapsed_sections": [],
      "name": "generating_train_test.ipynb",
      "provenance": []
    },
    "kernelspec": {
      "display_name": "Python 3",
      "name": "python3"
    },
    "language_info": {
      "codemirror_mode": {
        "name": "ipython",
        "version": 3
      },
      "file_extension": ".py",
      "mimetype": "text/x-python",
      "name": "python",
      "nbconvert_exporter": "python",
      "pygments_lexer": "ipython3",
      "version": "3.8.8"
    }
  },
  "nbformat": 4,
  "nbformat_minor": 0
}
