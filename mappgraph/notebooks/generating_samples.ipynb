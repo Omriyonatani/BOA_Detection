{
  "cells": [
    {
      "cell_type": "markdown",
      "metadata": {
        "id": "xe4cgV6gmLbM"
      },
      "source": [
        "Create the mobile traffic chunks (called samples) with the same length (5 minutes, 4 minutes, 3 minutes, 2 minutes, 1 minutes)"
      ]
    },
    {
      "cell_type": "markdown",
      "metadata": {
        "id": "7tmri_u2Inko"
      },
      "source": [
        "## Import packages"
      ]
    },
    {
      "cell_type": "code",
      "execution_count": null,
      "metadata": {
        "colab": {
          "base_uri": "https://localhost:8080/"
        },
        "id": "WQ3lH-WAtdDR",
        "outputId": "df0f49f1-ee5f-4f5a-97c9-1daeed4a53ae"
      },
      "outputs": [],
      "source": [
        "# from google.colab import drive\n",
        "# drive.mount('/content/drive')"
      ]
    },
    {
      "cell_type": "code",
      "execution_count": null,
      "metadata": {
        "id": "c8pnWzCztrfc"
      },
      "outputs": [],
      "source": [
        "import os\n",
        "import pandas as pd\n",
        "import warnings\n",
        "warnings.filterwarnings('ignore')"
      ]
    },
    {
      "cell_type": "code",
      "execution_count": null,
      "metadata": {
        "id": "qZXenyX6uxQt"
      },
      "outputs": [],
      "source": [
        "# this path depends on your setup (need to contain sources folder)\n",
        "# root_path = 'C:/MAppGraph/mappgraph/data'\n",
        "root_path = 'D:/Omri'\n",
        "# root_path = 'C:/MAppGraph/mappgraph/BOAdata'"
      ]
    },
    {
      "cell_type": "markdown",
      "metadata": {
        "id": "I9vBWFUhv17P"
      },
      "source": [
        "## Config setting"
      ]
    },
    {
      "cell_type": "code",
      "execution_count": null,
      "metadata": {
        "id": "WRYlHP7V7z7K"
      },
      "outputs": [],
      "source": [
        "'''\n",
        "Define set of hyper-parameters\n",
        "List of tuples (duration, overlap)\n",
        "'''\n",
        "params = [(5, 3), (4, 2), (3, 1), (2, 0), (1, 0)]"
      ]
    },
    {
      "cell_type": "markdown",
      "metadata": {
        "id": "F835KAib--sY"
      },
      "source": [
        "## Create the mobile traffic chunks with the same length"
      ]
    },
    {
      "cell_type": "code",
      "execution_count": null,
      "metadata": {
        "id": "FY85-RnCKQ_S"
      },
      "outputs": [],
      "source": [
        "# folder that contains source data\n",
        "# sources_folder = os.path.join(root_path, 'sources')\n",
        "# sources_folder = 'C:/MAppGraph/mappgraph/data/sources'\n",
        "sources_folder = 'D:/Omri/sources'\n",
        "# sources_folder = 'C:/MAppGraph/mappgraph/BOAdata/d_hi_chrome'"
      ]
    },
    {
      "cell_type": "code",
      "execution_count": null,
      "metadata": {
        "colab": {
          "base_uri": "https://localhost:8080/"
        },
        "id": "XoT5nDjVJnIt",
        "outputId": "08a8c3f1-bf0a-47de-f9c0-0603f23c95e7"
      },
      "outputs": [],
      "source": [
        "# loop over set of hyper-parameters\n",
        "for duration, overlap in params:\n",
        "  # folder that contain samples of one set of parameters\n",
        "  param_folder = os.path.join(root_path, '%d_%d'%(duration, overlap))\n",
        "  \n",
        "  # check whether the data is already generated or not\n",
        "  if not os.path.exists(param_folder):\n",
        "    os.mkdir(param_folder)\n",
        "\n",
        "    # create folder to contain samples\n",
        "    samples_folder = os.path.join(param_folder, 'samples')\n",
        "    os.mkdir(samples_folder)\n",
        "\n",
        "    # loop over each app to generate samples\n",
        "    for app in os.listdir(sources_folder):\n",
        "      print('App: ', app)\n",
        "      app_sources_folder = os.path.join(sources_folder, app)\n",
        "\n",
        "      # create folder contain samples for each app\n",
        "      app_samples_folder = os.path.join(samples_folder, app)\n",
        "      if not os.path.exists(app_samples_folder):\n",
        "        os.mkdir(app_samples_folder)\n",
        "\n",
        "      for filename in os.listdir(app_sources_folder):\n",
        "        print('Processing %s ...' % filename)\n",
        "        index = 1\n",
        "\n",
        "        file_path = os.path.join(app_sources_folder, filename)\n",
        "        df = pd.read_csv(file_path, index_col=0)\n",
        "        base = df['time'].iloc[0]\n",
        "        end = df['time'].iloc[-1]\n",
        "      \n",
        "        while ((index - 1)*(duration - overlap) + duration)*60 + base < end:\n",
        "          start_time = base + (index-1)*(duration - overlap)*60\n",
        "          end_time = start_time + duration*60\n",
        "          df_ = df[(df['time'] >= start_time) & (df['time'] <= end_time)].reset_index(drop=True)\n",
        "\n",
        "          # save a sample as csv file\n",
        "          sample_filename = \"_\".join(filename.split('_')[:-2]) + '_' + filename.split('_')[-2] + '_' + str(index) + '.csv'\n",
        "          sample_path = os.path.join(app_samples_folder, sample_filename)\n",
        "          df_.to_csv(sample_path, index=True)\n",
        "\n",
        "          index += 1\n",
        "    \n",
        "      print('...................................................')"
      ]
    }
  ],
  "metadata": {
    "colab": {
      "collapsed_sections": [],
      "name": "generating_samples.ipynb",
      "provenance": []
    },
    "kernelspec": {
      "display_name": "Python 3",
      "name": "python3"
    },
    "language_info": {
      "codemirror_mode": {
        "name": "ipython",
        "version": 3
      },
      "file_extension": ".py",
      "mimetype": "text/x-python",
      "name": "python",
      "nbconvert_exporter": "python",
      "pygments_lexer": "ipython3",
      "version": "3.8.8"
    }
  },
  "nbformat": 4,
  "nbformat_minor": 0
}
